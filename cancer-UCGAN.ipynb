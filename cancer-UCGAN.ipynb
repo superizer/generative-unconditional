{
 "cells": [
  {
   "cell_type": "code",
   "execution_count": 1,
   "metadata": {},
   "outputs": [],
   "source": [
    "import os\n",
    "import glob\n",
    "import imageio\n",
    "import torch\n",
    "import numpy as np\n",
    "from tqdm import tqdm\n",
    "from scipy.stats import entropy\n",
    "import torch.nn as nn\n",
    "from dataset import Dataset\n",
    "from architectures.architecture_dcgan import DCGAN_D, DCGAN_G\n",
    "from architectures.architecture_resnet import ResNetGan_D, ResNetGan_G\n",
    "from architectures.architecture_wavegan import Wave_D, Wave_G\n",
    "from trainers_advanced.trainer import Trainer\n",
    "from utils import save, load"
   ]
  },
  {
   "cell_type": "code",
   "execution_count": 2,
   "metadata": {},
   "outputs": [],
   "source": [
    "torch.backends.cudnn.benchmark = True"
   ]
  },
  {
   "cell_type": "code",
   "execution_count": 3,
   "metadata": {},
   "outputs": [],
   "source": [
    "dir_name = '/home/tone/Workspace/128'\n",
    "basic_types = None"
   ]
  },
  {
   "cell_type": "code",
   "execution_count": 4,
   "metadata": {},
   "outputs": [],
   "source": [
    "lr_D, lr_G, bs = 0.0002, 0.0002, 16\n",
    "sz, nc, nz, ngf, ndf = 128, 3, 100, 64, 64\n",
    "use_sigmoid, spectral_norm, attention_layer = False, True, 256"
   ]
  },
  {
   "cell_type": "code",
   "execution_count": 5,
   "metadata": {},
   "outputs": [],
   "source": [
    "data = Dataset(dir_name, basic_types)\n",
    "device = torch.device('cuda:0' if torch.cuda.is_available() else 'cpu')"
   ]
  },
  {
   "cell_type": "code",
   "execution_count": 6,
   "metadata": {},
   "outputs": [],
   "source": [
    "netD = DCGAN_D(sz, nc, ndf, use_sigmoid).to(device)\n",
    "netG = DCGAN_G(sz, nz, nc, ngf).to(device)"
   ]
  },
  {
   "cell_type": "code",
   "execution_count": 7,
   "metadata": {},
   "outputs": [],
   "source": [
    "trn_dl = data.get_loader(sz, bs)"
   ]
  },
  {
   "cell_type": "code",
   "execution_count": 8,
   "metadata": {},
   "outputs": [],
   "source": [
    "#trainer = Trainer('SGAN', netD, netG, device, trn_dl, lr_D = lr_D, lr_G = lr_G, resample = True, weight_clip = None, use_gradient_penalty = False, loss_interval = 130, image_interval = 130, save_img_dir = 'saved_images')\n",
    "trainer = Trainer('WGAN', netD, netG, device, trn_dl, lr_D = lr_D, lr_G = lr_G, resample = True, weight_clip = 0.01, use_gradient_penalty = False, loss_interval = 150, image_interval = 300, save_img_dir = 'saved_imges')"
   ]
  },
  {
   "cell_type": "code",
   "execution_count": 9,
   "metadata": {},
   "outputs": [
    {
     "name": "stderr",
     "output_type": "stream",
     "text": [
      "\r",
      "  0%|          | 0/130 [00:00<?, ?it/s]"
     ]
    },
    {
     "name": "stdout",
     "output_type": "stream",
     "text": [
      "[1/50] [1/130] errD : 0.0820, errG : 0.0027\n"
     ]
    },
    {
     "name": "stderr",
     "output_type": "stream",
     "text": [
      "100%|██████████| 130/130 [00:08<00:00, 15.50it/s]\n",
      "  2%|▏         | 3/130 [00:00<00:19,  6.47it/s]"
     ]
    },
    {
     "name": "stdout",
     "output_type": "stream",
     "text": [
      "[2/50] [1/130] errD : -0.4235, errG : 0.9175\n"
     ]
    },
    {
     "name": "stderr",
     "output_type": "stream",
     "text": [
      "100%|██████████| 130/130 [00:07<00:00, 16.69it/s]\n",
      "  2%|▏         | 3/130 [00:00<00:20,  6.29it/s]"
     ]
    },
    {
     "name": "stdout",
     "output_type": "stream",
     "text": [
      "[3/50] [1/130] errD : -0.5053, errG : -0.1776\n"
     ]
    },
    {
     "name": "stderr",
     "output_type": "stream",
     "text": [
      "100%|██████████| 130/130 [00:07<00:00, 16.66it/s]\n",
      "  2%|▏         | 3/130 [00:00<00:19,  6.47it/s]"
     ]
    },
    {
     "name": "stdout",
     "output_type": "stream",
     "text": [
      "[4/50] [1/130] errD : -0.3886, errG : 0.4840\n"
     ]
    },
    {
     "name": "stderr",
     "output_type": "stream",
     "text": [
      "100%|██████████| 130/130 [00:07<00:00, 16.64it/s]\n",
      "  2%|▏         | 3/130 [00:00<00:19,  6.46it/s]"
     ]
    },
    {
     "name": "stdout",
     "output_type": "stream",
     "text": [
      "[5/50] [1/130] errD : -0.0676, errG : -0.4194\n"
     ]
    },
    {
     "name": "stderr",
     "output_type": "stream",
     "text": [
      "100%|██████████| 130/130 [00:07<00:00, 16.63it/s]\n",
      "  2%|▏         | 3/130 [00:00<00:20,  6.35it/s]"
     ]
    },
    {
     "name": "stdout",
     "output_type": "stream",
     "text": [
      "[6/50] [1/130] errD : -0.3531, errG : 0.3350\n"
     ]
    },
    {
     "name": "stderr",
     "output_type": "stream",
     "text": [
      "100%|██████████| 130/130 [00:07<00:00, 16.57it/s]\n",
      "  2%|▏         | 3/130 [00:00<00:19,  6.47it/s]"
     ]
    },
    {
     "name": "stdout",
     "output_type": "stream",
     "text": [
      "[7/50] [1/130] errD : -0.2939, errG : 0.8011\n"
     ]
    },
    {
     "name": "stderr",
     "output_type": "stream",
     "text": [
      "100%|██████████| 130/130 [00:07<00:00, 16.57it/s]\n",
      "  2%|▏         | 3/130 [00:00<00:19,  6.54it/s]"
     ]
    },
    {
     "name": "stdout",
     "output_type": "stream",
     "text": [
      "[8/50] [1/130] errD : -0.6206, errG : -0.1267\n"
     ]
    },
    {
     "name": "stderr",
     "output_type": "stream",
     "text": [
      "100%|██████████| 130/130 [00:07<00:00, 16.58it/s]\n",
      "  2%|▏         | 3/130 [00:00<00:20,  6.34it/s]"
     ]
    },
    {
     "name": "stdout",
     "output_type": "stream",
     "text": [
      "[9/50] [1/130] errD : -0.5872, errG : 0.8305\n"
     ]
    },
    {
     "name": "stderr",
     "output_type": "stream",
     "text": [
      "100%|██████████| 130/130 [00:07<00:00, 16.56it/s]\n",
      "  2%|▏         | 3/130 [00:00<00:19,  6.47it/s]"
     ]
    },
    {
     "name": "stdout",
     "output_type": "stream",
     "text": [
      "[10/50] [1/130] errD : -0.6919, errG : -0.7463\n"
     ]
    },
    {
     "name": "stderr",
     "output_type": "stream",
     "text": [
      "100%|██████████| 130/130 [00:07<00:00, 16.61it/s]\n",
      "  2%|▏         | 3/130 [00:00<00:19,  6.38it/s]"
     ]
    },
    {
     "name": "stdout",
     "output_type": "stream",
     "text": [
      "[11/50] [1/130] errD : -0.3455, errG : 0.2919\n"
     ]
    },
    {
     "name": "stderr",
     "output_type": "stream",
     "text": [
      "100%|██████████| 130/130 [00:07<00:00, 16.54it/s]\n",
      "  2%|▏         | 3/130 [00:00<00:19,  6.46it/s]"
     ]
    },
    {
     "name": "stdout",
     "output_type": "stream",
     "text": [
      "[12/50] [1/130] errD : -0.3770, errG : 0.5099\n"
     ]
    },
    {
     "name": "stderr",
     "output_type": "stream",
     "text": [
      "100%|██████████| 130/130 [00:07<00:00, 16.52it/s]\n",
      "  2%|▏         | 3/130 [00:00<00:19,  6.36it/s]"
     ]
    },
    {
     "name": "stdout",
     "output_type": "stream",
     "text": [
      "[13/50] [1/130] errD : -0.2495, errG : 0.1345\n"
     ]
    },
    {
     "name": "stderr",
     "output_type": "stream",
     "text": [
      "100%|██████████| 130/130 [00:07<00:00, 16.50it/s]\n",
      "  2%|▏         | 3/130 [00:00<00:19,  6.38it/s]"
     ]
    },
    {
     "name": "stdout",
     "output_type": "stream",
     "text": [
      "[14/50] [1/130] errD : -0.2895, errG : 0.6472\n"
     ]
    },
    {
     "name": "stderr",
     "output_type": "stream",
     "text": [
      "100%|██████████| 130/130 [00:07<00:00, 16.53it/s]\n",
      "  2%|▏         | 3/130 [00:00<00:19,  6.50it/s]"
     ]
    },
    {
     "name": "stdout",
     "output_type": "stream",
     "text": [
      "[15/50] [1/130] errD : -0.3154, errG : 0.2076\n"
     ]
    },
    {
     "name": "stderr",
     "output_type": "stream",
     "text": [
      "100%|██████████| 130/130 [00:07<00:00, 16.53it/s]\n",
      "  2%|▏         | 3/130 [00:00<00:19,  6.38it/s]"
     ]
    },
    {
     "name": "stdout",
     "output_type": "stream",
     "text": [
      "[16/50] [1/130] errD : -0.3088, errG : 0.9643\n"
     ]
    },
    {
     "name": "stderr",
     "output_type": "stream",
     "text": [
      "100%|██████████| 130/130 [00:07<00:00, 16.51it/s]\n",
      "  2%|▏         | 3/130 [00:00<00:19,  6.42it/s]"
     ]
    },
    {
     "name": "stdout",
     "output_type": "stream",
     "text": [
      "[17/50] [1/130] errD : -0.0162, errG : -0.9008\n"
     ]
    },
    {
     "name": "stderr",
     "output_type": "stream",
     "text": [
      "100%|██████████| 130/130 [00:07<00:00, 16.51it/s]\n",
      "  2%|▏         | 3/130 [00:00<00:19,  6.42it/s]"
     ]
    },
    {
     "name": "stdout",
     "output_type": "stream",
     "text": [
      "[18/50] [1/130] errD : -0.1864, errG : 0.1765\n"
     ]
    },
    {
     "name": "stderr",
     "output_type": "stream",
     "text": [
      "100%|██████████| 130/130 [00:07<00:00, 16.49it/s]\n",
      "  2%|▏         | 3/130 [00:00<00:19,  6.45it/s]"
     ]
    },
    {
     "name": "stdout",
     "output_type": "stream",
     "text": [
      "[19/50] [1/130] errD : -0.3914, errG : 0.8724\n"
     ]
    },
    {
     "name": "stderr",
     "output_type": "stream",
     "text": [
      "100%|██████████| 130/130 [00:07<00:00, 16.49it/s]\n",
      "  2%|▏         | 3/130 [00:00<00:20,  6.34it/s]"
     ]
    },
    {
     "name": "stdout",
     "output_type": "stream",
     "text": [
      "[20/50] [1/130] errD : -0.1205, errG : -0.3562\n"
     ]
    },
    {
     "name": "stderr",
     "output_type": "stream",
     "text": [
      "100%|██████████| 130/130 [00:07<00:00, 16.47it/s]\n",
      "  2%|▏         | 3/130 [00:00<00:19,  6.43it/s]"
     ]
    },
    {
     "name": "stdout",
     "output_type": "stream",
     "text": [
      "[21/50] [1/130] errD : -0.0457, errG : -0.7677\n"
     ]
    },
    {
     "name": "stderr",
     "output_type": "stream",
     "text": [
      "100%|██████████| 130/130 [00:07<00:00, 16.53it/s]\n",
      "  2%|▏         | 3/130 [00:00<00:19,  6.39it/s]"
     ]
    },
    {
     "name": "stdout",
     "output_type": "stream",
     "text": [
      "[22/50] [1/130] errD : -0.0667, errG : -0.2462\n"
     ]
    },
    {
     "name": "stderr",
     "output_type": "stream",
     "text": [
      "100%|██████████| 130/130 [00:07<00:00, 16.46it/s]\n",
      "  2%|▏         | 3/130 [00:00<00:19,  6.41it/s]"
     ]
    },
    {
     "name": "stdout",
     "output_type": "stream",
     "text": [
      "[23/50] [1/130] errD : -0.1739, errG : 0.1955\n"
     ]
    },
    {
     "name": "stderr",
     "output_type": "stream",
     "text": [
      "100%|██████████| 130/130 [00:07<00:00, 16.49it/s]\n",
      "  2%|▏         | 3/130 [00:00<00:19,  6.40it/s]"
     ]
    },
    {
     "name": "stdout",
     "output_type": "stream",
     "text": [
      "[24/50] [1/130] errD : -0.3963, errG : -0.2909\n"
     ]
    },
    {
     "name": "stderr",
     "output_type": "stream",
     "text": [
      "100%|██████████| 130/130 [00:07<00:00, 16.50it/s]\n",
      "  2%|▏         | 3/130 [00:00<00:19,  6.49it/s]"
     ]
    },
    {
     "name": "stdout",
     "output_type": "stream",
     "text": [
      "[25/50] [1/130] errD : -0.4672, errG : 0.8165\n"
     ]
    },
    {
     "name": "stderr",
     "output_type": "stream",
     "text": [
      "100%|██████████| 130/130 [00:07<00:00, 16.50it/s]\n",
      "  2%|▏         | 3/130 [00:00<00:20,  6.29it/s]"
     ]
    },
    {
     "name": "stdout",
     "output_type": "stream",
     "text": [
      "[26/50] [1/130] errD : -0.6916, errG : 0.9856\n"
     ]
    },
    {
     "name": "stderr",
     "output_type": "stream",
     "text": [
      "100%|██████████| 130/130 [00:07<00:00, 16.49it/s]\n",
      "  2%|▏         | 3/130 [00:00<00:19,  6.48it/s]"
     ]
    },
    {
     "name": "stdout",
     "output_type": "stream",
     "text": [
      "[27/50] [1/130] errD : -0.2496, errG : 0.7913\n"
     ]
    },
    {
     "name": "stderr",
     "output_type": "stream",
     "text": [
      "100%|██████████| 130/130 [00:07<00:00, 16.49it/s]\n",
      "  2%|▏         | 3/130 [00:00<00:19,  6.37it/s]"
     ]
    },
    {
     "name": "stdout",
     "output_type": "stream",
     "text": [
      "[28/50] [1/130] errD : -0.4735, errG : -0.2889\n"
     ]
    },
    {
     "name": "stderr",
     "output_type": "stream",
     "text": [
      "100%|██████████| 130/130 [00:07<00:00, 16.47it/s]\n",
      "  2%|▏         | 3/130 [00:00<00:19,  6.43it/s]"
     ]
    },
    {
     "name": "stdout",
     "output_type": "stream",
     "text": [
      "[29/50] [1/130] errD : -0.0585, errG : -0.1037\n"
     ]
    },
    {
     "name": "stderr",
     "output_type": "stream",
     "text": [
      "100%|██████████| 130/130 [00:07<00:00, 16.51it/s]\n",
      "  2%|▏         | 3/130 [00:00<00:20,  6.12it/s]"
     ]
    },
    {
     "name": "stdout",
     "output_type": "stream",
     "text": [
      "[30/50] [1/130] errD : -0.0782, errG : 0.3964\n"
     ]
    },
    {
     "name": "stderr",
     "output_type": "stream",
     "text": [
      "100%|██████████| 130/130 [00:07<00:00, 16.46it/s]\n",
      "  2%|▏         | 3/130 [00:00<00:19,  6.50it/s]"
     ]
    },
    {
     "name": "stdout",
     "output_type": "stream",
     "text": [
      "[31/50] [1/130] errD : -0.1226, errG : 0.2314\n"
     ]
    },
    {
     "name": "stderr",
     "output_type": "stream",
     "text": [
      "100%|██████████| 130/130 [00:07<00:00, 16.52it/s]\n",
      "  2%|▏         | 3/130 [00:00<00:20,  6.23it/s]"
     ]
    },
    {
     "name": "stdout",
     "output_type": "stream",
     "text": [
      "[32/50] [1/130] errD : -0.2833, errG : 0.6910\n"
     ]
    },
    {
     "name": "stderr",
     "output_type": "stream",
     "text": [
      "100%|██████████| 130/130 [00:07<00:00, 16.48it/s]\n",
      "  2%|▏         | 3/130 [00:00<00:19,  6.53it/s]"
     ]
    },
    {
     "name": "stdout",
     "output_type": "stream",
     "text": [
      "[33/50] [1/130] errD : -0.3512, errG : 0.5267\n"
     ]
    },
    {
     "name": "stderr",
     "output_type": "stream",
     "text": [
      "100%|██████████| 130/130 [00:07<00:00, 16.50it/s]\n",
      "  2%|▏         | 3/130 [00:00<00:19,  6.36it/s]"
     ]
    },
    {
     "name": "stdout",
     "output_type": "stream",
     "text": [
      "[34/50] [1/130] errD : -0.3077, errG : 0.8237\n"
     ]
    },
    {
     "name": "stderr",
     "output_type": "stream",
     "text": [
      "100%|██████████| 130/130 [00:07<00:00, 16.48it/s]\n",
      "  2%|▏         | 3/130 [00:00<00:19,  6.54it/s]"
     ]
    },
    {
     "name": "stdout",
     "output_type": "stream",
     "text": [
      "[35/50] [1/130] errD : -0.1495, errG : -0.1891\n"
     ]
    },
    {
     "name": "stderr",
     "output_type": "stream",
     "text": [
      "100%|██████████| 130/130 [00:07<00:00, 16.51it/s]\n",
      "  2%|▏         | 3/130 [00:00<00:19,  6.49it/s]"
     ]
    },
    {
     "name": "stdout",
     "output_type": "stream",
     "text": [
      "[36/50] [1/130] errD : -0.4496, errG : 0.8785\n"
     ]
    },
    {
     "name": "stderr",
     "output_type": "stream",
     "text": [
      "100%|██████████| 130/130 [00:07<00:00, 16.48it/s]\n",
      "  2%|▏         | 3/130 [00:00<00:18,  6.70it/s]"
     ]
    },
    {
     "name": "stdout",
     "output_type": "stream",
     "text": [
      "[37/50] [1/130] errD : -1.4072, errG : -0.0532\n"
     ]
    },
    {
     "name": "stderr",
     "output_type": "stream",
     "text": [
      "100%|██████████| 130/130 [00:07<00:00, 16.52it/s]\n",
      "  2%|▏         | 3/130 [00:00<00:19,  6.59it/s]"
     ]
    },
    {
     "name": "stdout",
     "output_type": "stream",
     "text": [
      "[38/50] [1/130] errD : -2.1886, errG : 1.3033\n"
     ]
    },
    {
     "name": "stderr",
     "output_type": "stream",
     "text": [
      "100%|██████████| 130/130 [00:07<00:00, 16.45it/s]\n",
      "  2%|▏         | 3/130 [00:00<00:19,  6.57it/s]"
     ]
    },
    {
     "name": "stdout",
     "output_type": "stream",
     "text": [
      "[39/50] [1/130] errD : -2.8685, errG : 1.4210\n"
     ]
    },
    {
     "name": "stderr",
     "output_type": "stream",
     "text": [
      "100%|██████████| 130/130 [00:07<00:00, 16.49it/s]\n",
      "  2%|▏         | 3/130 [00:00<00:19,  6.50it/s]"
     ]
    },
    {
     "name": "stdout",
     "output_type": "stream",
     "text": [
      "[40/50] [1/130] errD : -2.8160, errG : 1.4377\n"
     ]
    },
    {
     "name": "stderr",
     "output_type": "stream",
     "text": [
      "100%|██████████| 130/130 [00:07<00:00, 16.49it/s]\n",
      "  2%|▏         | 3/130 [00:00<00:19,  6.64it/s]"
     ]
    },
    {
     "name": "stdout",
     "output_type": "stream",
     "text": [
      "[41/50] [1/130] errD : -2.7869, errG : 1.3632\n"
     ]
    },
    {
     "name": "stderr",
     "output_type": "stream",
     "text": [
      "100%|██████████| 130/130 [00:07<00:00, 16.48it/s]\n",
      "  2%|▏         | 3/130 [00:00<00:19,  6.39it/s]"
     ]
    },
    {
     "name": "stdout",
     "output_type": "stream",
     "text": [
      "[42/50] [1/130] errD : -1.4251, errG : 1.0027\n"
     ]
    },
    {
     "name": "stderr",
     "output_type": "stream",
     "text": [
      "100%|██████████| 130/130 [00:07<00:00, 16.47it/s]\n",
      "  2%|▏         | 3/130 [00:00<00:19,  6.45it/s]"
     ]
    },
    {
     "name": "stdout",
     "output_type": "stream",
     "text": [
      "[43/50] [1/130] errD : -0.5945, errG : 1.2066\n"
     ]
    },
    {
     "name": "stderr",
     "output_type": "stream",
     "text": [
      "100%|██████████| 130/130 [00:07<00:00, 16.48it/s]\n",
      "  2%|▏         | 3/130 [00:00<00:19,  6.42it/s]"
     ]
    },
    {
     "name": "stdout",
     "output_type": "stream",
     "text": [
      "[44/50] [1/130] errD : -2.0961, errG : 0.9168\n"
     ]
    },
    {
     "name": "stderr",
     "output_type": "stream",
     "text": [
      "100%|██████████| 130/130 [00:07<00:00, 16.47it/s]\n",
      "  2%|▏         | 3/130 [00:00<00:20,  6.29it/s]"
     ]
    },
    {
     "name": "stdout",
     "output_type": "stream",
     "text": [
      "[45/50] [1/130] errD : -0.8620, errG : -0.4396\n"
     ]
    },
    {
     "name": "stderr",
     "output_type": "stream",
     "text": [
      "100%|██████████| 130/130 [00:07<00:00, 16.46it/s]\n",
      "  2%|▏         | 3/130 [00:00<00:19,  6.64it/s]"
     ]
    },
    {
     "name": "stdout",
     "output_type": "stream",
     "text": [
      "[46/50] [1/130] errD : -1.3289, errG : 0.3769\n"
     ]
    },
    {
     "name": "stderr",
     "output_type": "stream",
     "text": [
      "100%|██████████| 130/130 [00:07<00:00, 16.45it/s]\n",
      "  2%|▏         | 3/130 [00:00<00:20,  6.29it/s]"
     ]
    },
    {
     "name": "stdout",
     "output_type": "stream",
     "text": [
      "[47/50] [1/130] errD : -1.6598, errG : 1.3597\n"
     ]
    },
    {
     "name": "stderr",
     "output_type": "stream",
     "text": [
      "100%|██████████| 130/130 [00:07<00:00, 16.47it/s]\n",
      "  2%|▏         | 3/130 [00:00<00:19,  6.55it/s]"
     ]
    },
    {
     "name": "stdout",
     "output_type": "stream",
     "text": [
      "[48/50] [1/130] errD : -1.3724, errG : -0.0315\n"
     ]
    },
    {
     "name": "stderr",
     "output_type": "stream",
     "text": [
      "100%|██████████| 130/130 [00:07<00:00, 16.47it/s]\n",
      "  2%|▏         | 3/130 [00:00<00:19,  6.36it/s]"
     ]
    },
    {
     "name": "stdout",
     "output_type": "stream",
     "text": [
      "[49/50] [1/130] errD : -1.5198, errG : 0.0104\n"
     ]
    },
    {
     "name": "stderr",
     "output_type": "stream",
     "text": [
      "100%|██████████| 130/130 [00:07<00:00, 16.45it/s]\n",
      "  2%|▏         | 3/130 [00:00<00:19,  6.54it/s]"
     ]
    },
    {
     "name": "stdout",
     "output_type": "stream",
     "text": [
      "[50/50] [1/130] errD : -1.5998, errG : 1.4096\n"
     ]
    },
    {
     "name": "stderr",
     "output_type": "stream",
     "text": [
      "100%|██████████| 130/130 [00:07<00:00, 16.47it/s]\n"
     ]
    }
   ],
   "source": [
    "trainer.train(50)\n",
    "save('saved/cur_state_1.state', netD, netG, trainer.optimizerD, trainer.optimizerG)\n",
    "torch.save(netG.state_dict(), 'saved/cur_state_G_1.pth')"
   ]
  },
  {
   "cell_type": "code",
   "execution_count": 10,
   "metadata": {},
   "outputs": [],
   "source": [
    "N    = 2080\n",
    "cuda = True\n",
    "\n",
    "# Set up dtype\n",
    "if cuda:\n",
    "    dtype = torch.cuda.FloatTensor\n",
    "else:\n",
    "    if torch.cuda.is_available():\n",
    "        print(\"WARNING: You have a CUDA device, so you should probably set cuda=True\")\n",
    "    dtype = torch.FloatTensor"
   ]
  },
  {
   "cell_type": "code",
   "execution_count": 11,
   "metadata": {},
   "outputs": [
    {
     "name": "stderr",
     "output_type": "stream",
     "text": [
      "100%|██████████| 130/130 [00:01<00:00, 90.29it/s]\n"
     ]
    }
   ],
   "source": [
    "# Get predictions\n",
    "preds = np.zeros((N, 1))\n",
    "\n",
    "for i, data in enumerate(tqdm(trn_dl)):\n",
    "    real_images = data[0].to(device)\n",
    "    #print('pred ', i ,'=',netD(real_images)[0][0])\n",
    "    preds[i*bs:i*bs + bs] = netD(real_images)[0][0].cpu().detach().numpy()\n",
    "    "
   ]
  },
  {
   "cell_type": "code",
   "execution_count": 12,
   "metadata": {},
   "outputs": [
    {
     "data": {
      "text/plain": [
       "array([[1.51164424],\n",
       "       [1.51164424],\n",
       "       [1.51164424],\n",
       "       ...,\n",
       "       [1.3673563 ],\n",
       "       [1.3673563 ],\n",
       "       [1.3673563 ]])"
      ]
     },
     "execution_count": 12,
     "metadata": {},
     "output_type": "execute_result"
    }
   ],
   "source": [
    "preds"
   ]
  },
  {
   "cell_type": "code",
   "execution_count": 13,
   "metadata": {},
   "outputs": [
    {
     "name": "stdout",
     "output_type": "stream",
     "text": [
      "IS =  1.002745778091639 +- 0.0008931803294836496\n"
     ]
    }
   ],
   "source": [
    "# Now compute the mean kl-div\n",
    "split_scores = []\n",
    "splits       = 10\n",
    "\n",
    "scores = []\n",
    "for i in range(splits):\n",
    "    part = preds[(i * preds.shape[0] // splits):((i + 1) * preds.shape[0] // splits), :]\n",
    "    kl = part * (np.log(part) - np.log(np.expand_dims(np.mean(part, 0), 0)))\n",
    "    kl = np.mean(np.sum(kl, 1))\n",
    "    scores.append(np.exp(kl))\n",
    "    \n",
    "print('IS = ',np.mean(scores), '+-', np.std(scores))"
   ]
  },
  {
   "cell_type": "code",
   "execution_count": 14,
   "metadata": {},
   "outputs": [],
   "source": [
    "#1.0490048101931169 +- 0.018750268311493064"
   ]
  },
  {
   "cell_type": "code",
   "execution_count": 16,
   "metadata": {},
   "outputs": [],
   "source": [
    "\n",
    "filenames = glob.glob('./saved_images/*.jpg')\n",
    "filenames = sorted(filenames)\n",
    "images = []\n",
    "for filename in filenames:\n",
    "    images.append(imageio.imread(filename))\n",
    "imageio.mimsave('wgan.gif', images)\n"
   ]
  },
  {
   "cell_type": "code",
   "execution_count": null,
   "metadata": {},
   "outputs": [],
   "source": [
    "'''\n",
    "from PIL import Image, ImageSequence\n",
    "\n",
    "# Output (max) size\n",
    "size = 320, 240\n",
    "\n",
    "# Open source\n",
    "im = Image.open(\"sgan.gif\")\n",
    "\n",
    "# Get sequence iterator\n",
    "frames = ImageSequence.Iterator(im)\n",
    "\n",
    "# Wrap on-the-fly thumbnail generator\n",
    "def thumbnails(frames):\n",
    "    for frame in frames:\n",
    "        thumbnail = frame.copy()\n",
    "        thumbnail.thumbnail(size, Image.ANTIALIAS)\n",
    "        yield thumbnail\n",
    "\n",
    "frames = thumbnails(frames)\n",
    "\n",
    "# Save output\n",
    "om = next(frames) # Handle first frame separately\n",
    "om.info = im.info # Copy sequence info\n",
    "om.save(\"out.gif\", save_all=True, append_images=list(frames))\n",
    "'''"
   ]
  },
  {
   "cell_type": "code",
   "execution_count": null,
   "metadata": {},
   "outputs": [],
   "source": [
    "'''\n",
    "trainer.train(50)\n",
    "save('saved/cur_state_2.state', netD, netG, trainer.optimizerD, trainer.optimizerG)\n",
    "torch.save(netG.state_dict(), 'saved/cur_state_G_2.pth')\n",
    "'''"
   ]
  }
 ],
 "metadata": {
  "kernelspec": {
   "display_name": "Python 3",
   "language": "python",
   "name": "python3"
  },
  "language_info": {
   "codemirror_mode": {
    "name": "ipython",
    "version": 3
   },
   "file_extension": ".py",
   "mimetype": "text/x-python",
   "name": "python",
   "nbconvert_exporter": "python",
   "pygments_lexer": "ipython3",
   "version": "3.6.7"
  }
 },
 "nbformat": 4,
 "nbformat_minor": 2
}
